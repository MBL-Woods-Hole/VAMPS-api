{
 "cells": [
  {
   "cell_type": "code",
   "execution_count": 443,
   "metadata": {
    "collapsed": false
   },
   "outputs": [
    {
     "name": "stdout",
     "output_type": "stream",
     "text": [
      "[49,50,51,52]\n"
     ]
    }
   ],
   "source": [
    "\"\"\"\n",
    "Panel-1 \n",
    "Define config variable\n",
    "Author: AAV\n",
    "vamps.mbl.edu\n",
    "\"\"\"\n",
    "import os,sys\n",
    "import requests\n",
    "from bs4 import BeautifulSoup   # parser for html\n",
    "#hoststr = 'http://vampsdev.jbpc-np.mbl.edu:8124'  # https://vamps2.mbl.edu http://vampsdev.jbpc-np.mbl.edu:8124 http://localhost:3000 \n",
    "conn = {'user':'guest',\n",
    "        'passwd':'guest',\n",
    "         # vamps:             https://vamps2.mbl.edu\n",
    "         # vampsdev (private) http://vampsdev.jbpc-np.mbl.edu:8124 \n",
    "         # localhost:         http://localhost:3000 \n",
    "        'hosturl':'https://vamps2.mbl.edu'\n",
    "       }\n",
    "\n",
    "s = requests.Session()\n",
    "r = s.post(conn['hosturl']+'/users/login', data={'username':conn['user'], 'password':conn['passwd']})\n",
    "#r = s.get('http://localhost:3000/users/logout')\n",
    "config = {\n",
    "    \"api\":\"1\",\n",
    "    \"source\":\"VAMPS-API\",\n",
    "    \"update_data\":1,\n",
    "    \"normalization\":\"none\",            # none, maximum, frequency\n",
    "    \"selected_distance\":\"morisita_horn\",  # morisita-horn, jaccard, kulczynski, canberra bray-curtis\n",
    "    \"tax_depth\":\"klass\",                 # domain, phylum, klass, order, family, genus, species, strain\n",
    "    \"domains\":[\"Archaea\",\"Bacteria\",\"Eukarya\",\"Organelle\",\"Unknown\"],   #[\"Archaea\",\"Bacteria\",\"Eukarya\",\"Organelle\",\"Unknown\"],\n",
    "    \"include_nas\":\"yes\",                  # yes or no\n",
    "    \"min_range\":0,                        # integer 0-99\n",
    "    \"max_range\":100,                      # integer 1-100\n",
    "\n",
    "      # Must be a valid project - with correct permissions.\n",
    "    'project':'AB_SAND_Bv6',   # localhost tests: KCK_LSM_TBS(private) or ICM_SPO_Ev9 or ICM_LCY_Bv6   \n",
    "                                # vamps2: AB_SAND_Bv6 AFP_MVCO_Bv6 DCO_BRG_Bv6v4\n",
    "\n",
    "      # possible values: \"dheatmap\", \"piecharts\", \"barcharts\", \"counts_matrix\", \"metadata_csv\",\n",
    "      #       FUTURE:     \"metadata_table\", \"fheatmap\", \"dendrogram01\", \"dendrogram03\", \n",
    "      #       FUTURE:     \"pcoa\", \"pcoa3d\", \"geospatial\" or \"adiversity\"\n",
    "    'image':'metadata_csv',\n",
    "    # possible values   \"fasta\", \"metadata-csv\", \"metadata-table\"\n",
    "    #'file' :'metadata-csv'\n",
    "}\n",
    "\n",
    "# Get project ids:\n",
    "r = s.post(conn['hosturl']+'/api/get_dids_from_project', timeout=15, data=config)\n",
    "# OR dataset_ids = [49,50,51,52]\n",
    "config['ds_order'] = r.text\n",
    "print(config['ds_order'])"
   ]
  },
  {
   "cell_type": "code",
   "execution_count": 444,
   "metadata": {
    "collapsed": false
   },
   "outputs": [
    {
     "name": "stdout",
     "output_type": "stream",
     "text": [
      "guest_1499803336848\n"
     ]
    }
   ],
   "source": [
    "\"\"\"\n",
    "Create configuration\n",
    "Panel-2\n",
    "\"\"\"\n",
    "# Get timestamp (filename prefix):\n",
    "r = s.post(conn['url']+'/visuals/view_selection', timeout=15, data=config)\n",
    "soup = BeautifulSoup(r.text, \"lxml\")  # html5lib  lxml html.parser\n",
    "\n",
    "# I placed this on view_selection page:  <div id='ts_for_bs' style='visibility:hidden'><%= pi.ts %></div>\n",
    "ts = soup.find(id=\"ts_for_bs\").string\n",
    "print(ts)"
   ]
  },
  {
   "cell_type": "code",
   "execution_count": 445,
   "metadata": {
    "collapsed": false
   },
   "outputs": [
    {
     "name": "stdout",
     "output_type": "stream",
     "text": [
      "guest_1499803336848-metadata-api.csv\n",
      "Done writing local file: guest_1499803336848-metadata-api.csv\n"
     ]
    }
   ],
   "source": [
    "import json\n",
    "# downloads matrx_file which is integral to vamps images:\n",
    "biom_matrix_file = ts+'_count_matrix.biom'\n",
    "url = conn['hosturl']+\"/\"+biom_matrix_file\n",
    "response = requests.get(url, stream=True)\n",
    "response.raise_for_status()\n",
    "out_file = biom_matrix_file\n",
    "with open(out_file, \"wb\") as handle:\n",
    "    for block in response.iter_content(1024):\n",
    "        handle.write(block)\n",
    "\n",
    "\n",
    "r = s.post(conn['hosturl']+'/api', timeout=30, data=config)\n",
    "\n",
    "try:\n",
    "    result = json.loads(r.text)\n",
    "except:\n",
    "    print(r.text)\n",
    "    sys.exit()\n",
    "local_filename = result['filename']\n",
    "html = result['html']\n",
    "print(local_filename)\n",
    "remote_file_name = conn['hosturl']+\"/\"+local_filename\n",
    "\n",
    "r = requests.get(remote_file_name, stream=True)\n",
    "with open(local_filename, 'wb') as f:\n",
    "    f.write(r.content)\n",
    "print('Done writing local file:',local_filename)"
   ]
  },
  {
   "cell_type": "code",
   "execution_count": 446,
   "metadata": {
    "collapsed": false
   },
   "outputs": [
    {
     "data": {
      "text/html": [
       "<style>.container { width:100% !important; }</style>VAMPS Metadata\n",
       ",LCY_0001_2003_05_11,LCY_0003_2003_05_04,LCY_0005_2003_05_16,LCY_0007_2003_05_04\n",
       "adapter_sequence_id,1,1,1,1\n",
       "collection_date,,,,\n",
       "dna_region_id,12,12,12,12\n",
       "domain_id,140108,140108,140108,140108\n",
       "env_biome_id,1076,1076,1076,1076\n",
       "env_feature_id,1650,1650,1650,1650\n",
       "env_material_id,1,1,1,1\n",
       "env_package_id,22,22,22,22\n",
       "geo_loc_name_id,9999,9999,9999,9999\n",
       "illumina_index_id,83,83,83,83\n",
       "latitude,30.124,30.124,30.124,30.124\n",
       "longitude,-42.11933333,-42.11933333,-42.11933333,-42.11933333\n",
       "primer_suite_id,35,35,35,35\n",
       "run_id,5543,5543,5543,5543\n",
       "sequencing_platform_id,1,1,1,1\n",
       "target_gene_id,1,1,1,1\n",
       "\n"
      ],
      "text/plain": [
       "<IPython.core.display.HTML object>"
      ]
     },
     "metadata": {},
     "output_type": "display_data"
    }
   ],
   "source": [
    "\"\"\"\n",
    "Show image\n",
    "\"\"\"\n",
    "ready_images = [\"dheatmap\", \"piecharts\", \"barcharts\", \"counts_matrix\", \"metadata_csv\"]\n",
    "if config['image'] in ready_images:\n",
    "    from IPython.core.display import display, HTML\n",
    "    display(HTML(\"<style>.container { width:100% !important; }</style>\"+html))\n",
    "else:\n",
    "    print('not implemented yet')"
   ]
  },
  {
   "cell_type": "code",
   "execution_count": null,
   "metadata": {
    "collapsed": true
   },
   "outputs": [],
   "source": []
  }
 ],
 "metadata": {
  "anaconda-cloud": {},
  "kernelspec": {
   "display_name": "Python [conda root]",
   "language": "python",
   "name": "conda-root-py"
  },
  "language_info": {
   "codemirror_mode": {
    "name": "ipython",
    "version": 3
   },
   "file_extension": ".py",
   "mimetype": "text/x-python",
   "name": "python",
   "nbconvert_exporter": "python",
   "pygments_lexer": "ipython3",
   "version": "3.5.2"
  }
 },
 "nbformat": 4,
 "nbformat_minor": 1
}
