{
 "cells": [
  {
   "cell_type": "code",
   "execution_count": 468,
   "metadata": {
    "collapsed": false
   },
   "outputs": [],
   "source": [
    "\"\"\"\n",
    "Panel-1 \n",
    "Define config variable\n",
    "Author: AAV\n",
    "vamps.mbl.edu\n",
    "\"\"\"\n",
    "import os,sys\n",
    "import requests\n",
    "from bs4 import BeautifulSoup   # parser for html\n",
    "conn = {'user':'guest',\n",
    "        'passwd':'guest',\n",
    "         # vamps:             https://vamps2.mbl.edu\n",
    "         # vampsdev (private) http://vampsdev.jbpc-np.mbl.edu:8124 \n",
    "         # localhost:         http://localhost:3000 \n",
    "        'hosturl':'http://localhost:3000'\n",
    "       }\n",
    "\n",
    "s = requests.Session()\n",
    "r = s.post(conn['hosturl']+'/users/login', data={'username':conn['user'], 'password':conn['passwd']})\n",
    "#r = s.get('http://localhost:3000/users/logout')  <-- needed?\n",
    "config = {\n",
    "    \"api\":\"1\",\n",
    "    \"source\":\"VAMPS-API\",\n",
    "    \"update_data\":1,\n",
    "    \"normalization\":\"none\",              # none, maximum, frequency\n",
    "    \"selected_distance\":\"morisita_horn\",  # morisita-horn, jaccard, kulczynski, canberra bray-curtis\n",
    "    \"tax_depth\":\"klass\",                 # domain, phylum, klass, order, family, genus, species, strain\n",
    "    \"domains\":[\"Archaea\",\"Bacteria\",\"Eukarya\",\"Organelle\",\"Unknown\"],   #[\"Archaea\",\"Bacteria\",\"Eukarya\",\"Organelle\",\"Unknown\"],\n",
    "    \"include_nas\":\"yes\",                  # yes or no\n",
    "    \"min_range\":0,                        # integer 0-99\n",
    "    \"max_range\":100,                      # integer 1-100\n",
    "\n",
    "      # Must be a valid project - with correct permissions for the above user.\n",
    "    'project':'ICM_LCY_Bv6',   # localhost tests: KCK_LSM_TBS(private) or ICM_SPO_Ev9 or ICM_LCY_Bv6   \n",
    "                                # vamps2: AB_SAND_Bv6 AFP_MVCO_Bv6(private) DCO_BRG_Bv6v4\n",
    "\n",
    "      # Currently avalable: \"dheatmap\", \"piecharts\", \"barcharts\", \"counts_matrix\", \"metadata_csv\",\n",
    "      # FUTURE:            \"metadata_table\", \"fheatmap\", \"dendrogram01\", \"dendrogram03\", \n",
    "      # FUTURE:            \"pcoa\", \"pcoa3d\", \"geospatial\" \"adiversity\"\n",
    "    'image':'dheatmap',\n",
    "    # possible values   \"fasta\", \"metadata-csv\", \"metadata-table\"   <-- not implemented\n",
    "    #'file' :'metadata-csv'\n",
    "}\n",
    "# Get project ids:\n",
    "r = s.post(conn['hosturl']+'/api/get_dids_from_project', timeout=15, data=config)  \n",
    "config['ds_order'] = r.text\n",
    "print(config['ds_order'])"
   ]
  },
  {
   "cell_type": "code",
   "execution_count": 461,
   "metadata": {
    "collapsed": false
   },
   "outputs": [
    {
     "name": "stdout",
     "output_type": "stream",
     "text": [
      "guest_1499866297148\n"
     ]
    }
   ],
   "source": [
    "\"\"\"\n",
    "Create configuration\n",
    "Panel-2\n",
    "\"\"\"\n",
    "# Get timestamp (filename prefix):\n",
    "r = s.post(conn['hosturl']+'/visuals/view_selection', timeout=15, data=config)\n",
    "soup = BeautifulSoup(r.text, \"lxml\")  # html5lib  lxml html.parser\n",
    "\n",
    "# I placed this on view_selection page:  <div id='ts_for_bs' style='visibility:hidden'><%= pi.ts %></div>\n",
    "ts = soup.find(id=\"ts_for_bs\").string\n",
    "print(ts)"
   ]
  },
  {
   "cell_type": "code",
   "execution_count": 462,
   "metadata": {
    "collapsed": false
   },
   "outputs": [
    {
     "name": "stdout",
     "output_type": "stream",
     "text": [
      "guest_1499866297148-dheatmap-api.html\n",
      "Done writing local file: guest_1499866297148-dheatmap-api.html\n"
     ]
    }
   ],
   "source": [
    "import json\n",
    "# downloads matrx_file which is integral to vamps images:\n",
    "biom_matrix_file = ts+'_count_matrix.biom'\n",
    "url = conn['hosturl']+\"/\"+biom_matrix_file\n",
    "response = requests.get(url, stream=True)\n",
    "response.raise_for_status()\n",
    "out_file = biom_matrix_file\n",
    "with open(out_file, \"wb\") as handle:\n",
    "    for block in response.iter_content(1024):\n",
    "        handle.write(block)\n",
    "\n",
    "\n",
    "r = s.post(conn['hosturl']+'/api/create_image', timeout=30, data=config)\n",
    "\n",
    "try:\n",
    "    result = json.loads(r.text)\n",
    "except:\n",
    "    print(r.text)\n",
    "    sys.exit()\n",
    "local_filename = result['filename']\n",
    "html = result['html']\n",
    "print(local_filename)\n",
    "remote_file_name = conn['hosturl']+\"/\"+local_filename\n",
    "\n",
    "r = requests.get(remote_file_name, stream=True)\n",
    "with open(local_filename, 'wb') as f:\n",
    "    f.write(r.content)\n",
    "print('Done writing local file:',local_filename)"
   ]
  },
  {
   "cell_type": "code",
   "execution_count": 463,
   "metadata": {
    "collapsed": false
   },
   "outputs": [
    {
     "data": {
      "text/html": [
       "<style>.container { width:100% !important; }</style><center><form name='save_ds_order_form' id='' class='' method='POST' action='/visuals/view_selection'><table border='1' id='drag_table' class='heatmap_table center_table' ><tr class='nodrag nodrop' style='line-height:11px;'><td></td><td><div id='ds_save_order_div'><span class='' style='color:white;background:blue' >Similar (0.0)</span> <span class='' style='background:red' >Dissimilar (1.0)</span>\t\t  <imput type='hidden' id='' name='resorted' value='1' >\t  </div></td><td><div class='cell'></div></td><td><div class='cell'></div></td><td><div class='cell'></div></td><td><div class='cell'></div></td></tr><tr id='ICM_LCY_Bv6--LCY_0001_2003_05_11' style='line-height:11px;'><td  id='ICM_LCY_Bv6--LCY_0001_2003_05_11' class='dragHandle ds_cell'>1</td><td class='dragHandle ds_cell' ><input type='hidden' name='ds_order[]' value='49' >ICM_LCY_Bv6--LCY_0001_2003_05_11</td><td id='' class='heat_map_td' bgcolor='#000'></td><td id='dh/ICM_LCY_Bv6--LCY_0001_2003_05_11/ICM_LCY_Bv6--LCY_0003_2003_05_04/morisita_horn/0.11656' class='heat_map_td tooltip_viz' bgcolor='#5555ff'</td><td id='dh/ICM_LCY_Bv6--LCY_0001_2003_05_11/ICM_LCY_Bv6--LCY_0005_2003_05_16/morisita_horn/0.25017' class='heat_map_td tooltip_viz' bgcolor='#9999ff'</td><td id='dh/ICM_LCY_Bv6--LCY_0001_2003_05_11/ICM_LCY_Bv6--LCY_0007_2003_05_04/morisita_horn/0.25637' class='heat_map_td tooltip_viz' bgcolor='#9999ff'</td></tr><tr id='ICM_LCY_Bv6--LCY_0003_2003_05_04' style='line-height:11px;'><td  id='ICM_LCY_Bv6--LCY_0003_2003_05_04' class='dragHandle ds_cell'>2</td><td class='dragHandle ds_cell' ><input type='hidden' name='ds_order[]' value='50' >ICM_LCY_Bv6--LCY_0003_2003_05_04</td><td id='dh/ICM_LCY_Bv6--LCY_0003_2003_05_04/ICM_LCY_Bv6--LCY_0001_2003_05_11/morisita_horn/0.11656' class='heat_map_td tooltip_viz' bgcolor='#5555ff'</td><td id='' class='heat_map_td' bgcolor='#000'></td><td id='dh/ICM_LCY_Bv6--LCY_0003_2003_05_04/ICM_LCY_Bv6--LCY_0005_2003_05_16/morisita_horn/0.03512' class='heat_map_td tooltip_viz' bgcolor='#3333ff'</td><td id='dh/ICM_LCY_Bv6--LCY_0003_2003_05_04/ICM_LCY_Bv6--LCY_0007_2003_05_04/morisita_horn/0.36556' class='heat_map_td tooltip_viz' bgcolor='#aaaaff'</td></tr><tr id='ICM_LCY_Bv6--LCY_0005_2003_05_16' style='line-height:11px;'><td  id='ICM_LCY_Bv6--LCY_0005_2003_05_16' class='dragHandle ds_cell'>3</td><td class='dragHandle ds_cell' ><input type='hidden' name='ds_order[]' value='51' >ICM_LCY_Bv6--LCY_0005_2003_05_16</td><td id='dh/ICM_LCY_Bv6--LCY_0005_2003_05_16/ICM_LCY_Bv6--LCY_0001_2003_05_11/morisita_horn/0.25017' class='heat_map_td tooltip_viz' bgcolor='#9999ff'</td><td id='dh/ICM_LCY_Bv6--LCY_0005_2003_05_16/ICM_LCY_Bv6--LCY_0003_2003_05_04/morisita_horn/0.03512' class='heat_map_td tooltip_viz' bgcolor='#3333ff'</td><td id='' class='heat_map_td' bgcolor='#000'></td><td id='dh/ICM_LCY_Bv6--LCY_0005_2003_05_16/ICM_LCY_Bv6--LCY_0007_2003_05_04/morisita_horn/0.41628' class='heat_map_td tooltip_viz' bgcolor='#ccccff'</td></tr><tr id='ICM_LCY_Bv6--LCY_0007_2003_05_04' style='line-height:11px;'><td  id='ICM_LCY_Bv6--LCY_0007_2003_05_04' class='dragHandle ds_cell'>4</td><td class='dragHandle ds_cell' ><input type='hidden' name='ds_order[]' value='52' >ICM_LCY_Bv6--LCY_0007_2003_05_04</td><td id='dh/ICM_LCY_Bv6--LCY_0007_2003_05_04/ICM_LCY_Bv6--LCY_0001_2003_05_11/morisita_horn/0.25637' class='heat_map_td tooltip_viz' bgcolor='#9999ff'</td><td id='dh/ICM_LCY_Bv6--LCY_0007_2003_05_04/ICM_LCY_Bv6--LCY_0003_2003_05_04/morisita_horn/0.36556' class='heat_map_td tooltip_viz' bgcolor='#aaaaff'</td><td id='dh/ICM_LCY_Bv6--LCY_0007_2003_05_04/ICM_LCY_Bv6--LCY_0005_2003_05_16/morisita_horn/0.41628' class='heat_map_td tooltip_viz' bgcolor='#ccccff'</td><td id='' class='heat_map_td' bgcolor='#000'></td></tr></table></form></center>"
      ],
      "text/plain": [
       "<IPython.core.display.HTML object>"
      ]
     },
     "metadata": {},
     "output_type": "display_data"
    }
   ],
   "source": [
    "\"\"\"\n",
    "Show image\n",
    "\"\"\"\n",
    "ready_images = [\"dheatmap\", \"piecharts\", \"barcharts\", \"counts_matrix\", \"metadata_csv\"]\n",
    "if config['image'] in ready_images:\n",
    "    from IPython.core.display import display, HTML\n",
    "    display(HTML(\"<style>.container { width:100% !important; }</style>\"+html))\n",
    "else:\n",
    "    print('not implemented yet')"
   ]
  },
  {
   "cell_type": "code",
   "execution_count": null,
   "metadata": {
    "collapsed": true
   },
   "outputs": [],
   "source": []
  }
 ],
 "metadata": {
  "anaconda-cloud": {},
  "kernelspec": {
   "display_name": "Python [conda root]",
   "language": "python",
   "name": "conda-root-py"
  },
  "language_info": {
   "codemirror_mode": {
    "name": "ipython",
    "version": 3
   },
   "file_extension": ".py",
   "mimetype": "text/x-python",
   "name": "python",
   "nbconvert_exporter": "python",
   "pygments_lexer": "ipython3",
   "version": "3.5.2"
  }
 },
 "nbformat": 4,
 "nbformat_minor": 1
}
