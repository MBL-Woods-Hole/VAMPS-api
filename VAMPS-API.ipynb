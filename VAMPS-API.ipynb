{
 "cells": [
  {
   "cell_type": "code",
   "execution_count": 149,
   "metadata": {},
   "outputs": [
    {
     "data": {
      "text/plain": [
       "u'Login Success'"
      ]
     },
     "execution_count": 149,
     "metadata": {},
     "output_type": "execute_result"
    }
   ],
   "source": [
    "import requests\n",
    "conn = {'username':'guest',\n",
    "        'password':'guest',\n",
    "        'api':'1',\n",
    "         # vamps:             https://vamps2.mbl.edu\n",
    "         # vampsdev (private) http://vampsdev.jbpc-np.mbl.edu:8124 \n",
    "         # localhost:         http://localhost:3000 \n",
    "        'hosturl':'http://localhost:3000'\n",
    "       }\n",
    "s = requests.Session()\n",
    "r = s.post(conn['hosturl']+'/api/logmein', data=conn)\n",
    "r = s.post(conn['hosturl']+'/api/validate_login', data=conn)\n",
    "# r = s.post('https://vamps2.mbl.edu/users/login', data={'username':'guest', 'password':'guest'})\n",
    "# r.text\n",
    "r.text\n"
   ]
  },
  {
   "cell_type": "code",
   "execution_count": 150,
   "metadata": {},
   "outputs": [
    {
     "data": {
      "text/plain": [
       "[49, 50, 51, 52]"
      ]
     },
     "execution_count": 150,
     "metadata": {},
     "output_type": "execute_result"
    }
   ],
   "source": [
    "\"\"\"\n",
    "Panel-1 \n",
    "Define config variable; Select project; Select Image;\n",
    "Gets datasets ids\n",
    "Author: AAV\n",
    "vamps2.mbl.edu\n",
    "\"\"\"\n",
    "import os,sys\n",
    "import json\n",
    "from bs4 import BeautifulSoup   # parser for html\n",
    "\n",
    "ready_images = [\"dheatmap\", \"piecharts\", \"barcharts\", \"counts_matrix\", \"metadata_csv\", \"phyloseq\",\"adiversity\",\"dendrogram\",\"fheatmap\"]\n",
    "config = {\n",
    "    \"api\":\"1\",\n",
    "    \"source\":\"VAMPS-API\",\n",
    "    \"update_data\":1,\n",
    "    \"normalization\":\"none\",              # none, maximum, frequency\n",
    "    \"selected_distance\":\"morisita-horn\",       # morisita-horn, jaccard, kulczynski, canberra, bray-curtis\n",
    "    \"tax_depth\":\"genus\",                 # domain, phylum, klass, order, family, genus, species, strain\n",
    "    \"domains\":[\"Archaea\",\"Bacteria\",\"Eukarya\",\"Organelle\",\"Unknown\"],   #[\"Archaea\",\"Bacteria\",\"Eukarya\",\"Organelle\",\"Unknown\"],\n",
    "    \"include_nas\":\"yes\",                  # yes or no\n",
    "    # if the % taxon for all of the datasets are outside this range the taxon will not show.\n",
    "    # Applies to pies and bars, heatmap, tax-table:\n",
    "    \"min_range\":0,                        # integer 0-99  -> percent range of taxonomy to show\n",
    "    \"max_range\":100,                      # integer 1-100 -> percent range of taxonomy to show\n",
    "\n",
    "      # Must be a valid project - with correct permissions for the above user.\n",
    "    'project':'ICM_LCY_Bv6',   # localhost tests: KCK_LSM_TBS(private) or ICM_SPO_Ev9 or ICM_LCY_Bv6   \n",
    "                                # vamps2: AB_SAND_Bv6 AFP_MVCO_Bv6(private) DCO_BRG_Bv6v4\n",
    "\n",
    "      # Currently avalable: \"dheatmap\", \"piecharts\", \"barcharts\", \"counts_matrix\", \"metadata_csv\" \n",
    "      # Currently avalable:  \"adiversity\", \"dendrogram\", \"fheatmap\"\n",
    "      # In construction    phyloseq (Rscript)\n",
    "      # FUTURE:            \"metadata_table\", \"dendrogram01\", \"dendrogram03\", \n",
    "      # FUTURE:            \"pcoa\", \"pcoa3d\", \"geospatial\", \"phyloseq\"\n",
    "    'image':'phyloseq',\n",
    "    # possible values   \"fasta\", \"metadata_csv\", \"metadata_table\"   <-- not implemented\n",
    "    #'file' :'metadata-csv'\n",
    "}\n",
    "# Get dataset ids:\n",
    "r = s.post(conn['hosturl']+'/api/get_dids_from_project', timeout=15, data=config)  \n",
    "\n",
    "try:\n",
    "    result = json.loads(r.text)\n",
    "    config['ds_order'] = r.text   # keep this as r.text \n",
    "except:\n",
    "    result = str(r.text)\n",
    "\n",
    "result"
   ]
  },
  {
   "cell_type": "code",
   "execution_count": 158,
   "metadata": {},
   "outputs": [
    {
     "data": {
      "text/plain": [
       "[u'ICM_LCY_Bv6', u'DCO_JJ_ApD1', u't18_333', u't18_637', u't18_167']"
      ]
     },
     "execution_count": 158,
     "metadata": {},
     "output_type": "execute_result"
    }
   ],
   "source": [
    "\"\"\"\n",
    "Metadata, ProjectInfo\n",
    "Not needed for image retrieval (shown here only as api function listing)\n",
    "\"\"\"\n",
    "## VAMPS-API: Get Dataset IDs:\n",
    "# data = {\"project\":\"ICM_LCY_Bv6\"}\n",
    "# r = s.post(conn['hosturl']+'/api/get_dids_from_project', timeout=15, data=data)  \n",
    "# result = json.loads(r.text)\n",
    "# result\n",
    "# ############################################\n",
    "# # VAMPS-API: Get Project Metadata:\n",
    "# data = {\"project\":\"ICM_LCY_Bv6\"}\n",
    "# r = s.post(conn['hosturl']+'/api/get_metadata_from_project', timeout=15, data=data)  \n",
    "# result = json.loads(r.text)\n",
    "# result\n",
    "# ############################################\n",
    "# # VAMPS-API: Get Project Information:\n",
    "# data = {\"project\":\"ICM_LCY_Bv6\"}\n",
    "# r = s.post(conn['hosturl']+'/api/get_project_information', timeout=15, data=data)  \n",
    "# result = json.loads(r.text)\n",
    "# result\n",
    "# ############################################\n",
    "# #VAMPS-API: Find Projects that user has access to.\n",
    "# data = {\n",
    "#    'search_string':'',  # If not empty will return projects with string in project name (case insensitive)\n",
    "#    # 'include_info':''   # if present, data will include project information\n",
    "# }\n",
    "# r = s.post(conn['hosturl']+'/api/find_user_projects', timeout=15, data=data) \n",
    "# result = json.loads(r.text)\n",
    "# result\n",
    "############################################\n",
    "#VAMPS-API: Get Projects in Geographic Region\n",
    "#data: JSON Decimal Degrees; \n",
    "data = {'nw_lat':'90','nw_lon':'-75.5.3','se_lat':'0.0','se_lon':'0.0'}\n",
    "r = s.post(conn['hosturl']+'/api/find_projects_in_geo_area', timeout=15, data=data)  \n",
    "#result = json.dumps(json.loads(r.text))\n",
    "result = json.loads(r.text)\n",
    "result"
   ]
  },
  {
   "cell_type": "code",
   "execution_count": null,
   "metadata": {
    "collapsed": true
   },
   "outputs": [],
   "source": [
    "\"\"\"\n",
    "Panel-2\n",
    "Creates remote configuration and gets ts (file_prefix) \n",
    "\"\"\"\n",
    "# Get timestamp (filename prefix) and setup environment:\n",
    "r = s.post(conn['hosturl']+'/visuals/view_selection', timeout=15, data=config)\n",
    "soup = BeautifulSoup(r.text, \"lxml\")  # html5lib  lxml html.parser\n",
    "\n",
    "# I placed this on view_selection page:  <div id='ts_for_bs' style='visibility:hidden'><%= pi.ts %></div>\n",
    "ts = str(soup.find(id=\"ts_for_bs\").string)\n",
    "ts"
   ]
  },
  {
   "cell_type": "code",
   "execution_count": null,
   "metadata": {
    "collapsed": true
   },
   "outputs": [],
   "source": [
    "\"\"\"\n",
    "Panel-3\n",
    "Writes local matrx_file which is integral to vamps images:\n",
    "Writes image file\n",
    "\"\"\"\n",
    "import json\n",
    "biom_matrix_file = ts+'_count_matrix.biom'\n",
    "url = conn['hosturl']+\"/\"+biom_matrix_file\n",
    "response = requests.get(url, stream=True)\n",
    "response.raise_for_status()\n",
    "out_file = biom_matrix_file\n",
    "with open(out_file, \"wb\") as handle:\n",
    "    for block in response.iter_content(1024):\n",
    "        handle.write(block)\n",
    "\n",
    "r = s.post(conn['hosturl']+'/api/create_image', timeout=300, data=config)\n",
    "\n",
    "try:\n",
    "    result = json.loads(r.text)\n",
    "except:\n",
    "    print(r.text)\n",
    "    sys.exit()\n",
    "local_filename = result['filename']\n",
    "return_result = result['html']\n",
    "#print(local_filename)\n",
    "remote_file_name = conn['hosturl']+\"/\"+local_filename\n",
    "\n",
    "r = requests.get(remote_file_name, timeout=300, stream=True)\n",
    "with open(local_filename, 'wb') as f:\n",
    "    f.write(r.content)\n",
    "'Done writing local file: '+local_filename"
   ]
  },
  {
   "cell_type": "code",
   "execution_count": null,
   "metadata": {
    "collapsed": true
   },
   "outputs": [],
   "source": [
    "\"\"\"\n",
    "Show image\n",
    "\"\"\"\n",
    "from IPython.core.display import display, HTML\n",
    "out = ''\n",
    "if config['image'] in ready_images:\n",
    "    if config['image'] == 'metadata_csv':\n",
    "        print(return_result)\n",
    "    else:\n",
    "        #display(HTML(\"<style>.container { width:100% !important; }</style>\"+return_result))\n",
    "        out = HTML(\"<style>.container { width:100% !important; }</style>\"+return_result)\n",
    "else:\n",
    "    out = 'not implemented yet'\n",
    "out"
   ]
  },
  {
   "cell_type": "code",
   "execution_count": null,
   "metadata": {
    "collapsed": true
   },
   "outputs": [],
   "source": []
  }
 ],
 "metadata": {
  "anaconda-cloud": {},
  "kernelspec": {
   "display_name": "Python 2",
   "language": "python",
   "name": "python2"
  },
  "language_info": {
   "codemirror_mode": {
    "name": "ipython",
    "version": 2
   },
   "file_extension": ".py",
   "mimetype": "text/x-python",
   "name": "python",
   "nbconvert_exporter": "python",
   "pygments_lexer": "ipython2",
   "version": "2.7.13"
  }
 },
 "nbformat": 4,
 "nbformat_minor": 1
}
