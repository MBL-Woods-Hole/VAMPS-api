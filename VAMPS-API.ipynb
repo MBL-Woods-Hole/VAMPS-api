{
 "cells": [
  {
   "cell_type": "code",
   "execution_count": 12,
   "metadata": {},
   "outputs": [
    {
     "name": "stdout",
     "output_type": "stream",
     "text": [
      "image: dendrogram\n",
      "[4281,4282,4283,4284]\n"
     ]
    }
   ],
   "source": [
    "\"\"\"\n",
    "Panel-1 \n",
    "Define config variable; Select project; Select Image;\n",
    "Gets datasets ids\n",
    "Author: AAV\n",
    "vamps2.mbl.edu\n",
    "\"\"\"\n",
    "import os,sys\n",
    "import requests, json\n",
    "from bs4 import BeautifulSoup   # parser for html\n",
    "conn = {'user':'guest',\n",
    "        'passwd':'guest',\n",
    "         # vamps:             https://vamps2.mbl.edu\n",
    "         # vampsdev (private) http://vampsdev.jbpc-np.mbl.edu:8124 \n",
    "         # localhost:         http://localhost:3000 \n",
    "        'hosturl':'https://vamps2.mbl.edu'\n",
    "       }\n",
    "\n",
    "s = requests.Session()\n",
    "s.post(conn['hosturl']+'/users/login', data={'username':conn['user'], 'password':conn['passwd']})\n",
    "## s.get('http://localhost:3000/users/logout')  <-- needed?\n",
    "ready_images = [\"dheatmap\", \"piecharts\", \"barcharts\", \"counts_matrix\", \"metadata_csv\", \"adiversity\",\"dendrogram\"]\n",
    "config = {\n",
    "    \"api\":\"1\",\n",
    "    \"source\":\"VAMPS-API\",\n",
    "    \"update_data\":1,\n",
    "    \"normalization\":\"none\",              # none, maximum, frequency\n",
    "    \"selected_distance\":\"morisita-horn\",       # morisita-horn, jaccard, kulczynski, canberra bray-curtis\n",
    "    \"tax_depth\":\"klass\",                 # domain, phylum, klass, order, family, genus, species, strain\n",
    "    \"domains\":[\"Archaea\",\"Bacteria\",\"Eukarya\",\"Organelle\",\"Unknown\"],   #[\"Archaea\",\"Bacteria\",\"Eukarya\",\"Organelle\",\"Unknown\"],\n",
    "    \"include_nas\":\"yes\",                  # yes or no\n",
    "    # if the % taxon for all of the datasets are outside this range the taxon will not show.\n",
    "    # Applies to pies and bars, heatmap, tax-table:\n",
    "    \"min_range\":0,                        # integer 0-99  -> percent range of taxonomy to show\n",
    "    \"max_range\":100,                      # integer 1-100 -> percent range of taxonomy to show\n",
    "\n",
    "      # Must be a valid project - with correct permissions for the above user.\n",
    "    'project':'ICM_LCY_Bv6',   # localhost tests: KCK_LSM_TBS(private) or ICM_SPO_Ev9 or ICM_LCY_Bv6   \n",
    "                                # vamps2: AB_SAND_Bv6 AFP_MVCO_Bv6(private) DCO_BRG_Bv6v4\n",
    "\n",
    "      # Currently avalable: \"dheatmap\", \"piecharts\", \"barcharts\", \"counts_matrix\", \"metadata_csv\" \n",
    "      # Currently avalable:  adiversity, dendrogram\n",
    "      # In construction    fheatmap  \n",
    "      # FUTURE:            \"metadata_table\", \"fheatmap\", \"dendrogram01\", \"dendrogram03\", \n",
    "      # FUTURE:            \"pcoa\", \"pcoa3d\", \"geospatial\" \n",
    "    'image':'dendrogram',\n",
    "    # possible values   \"fasta\", \"metadata_csv\", \"metadata_table\"   <-- not implemented\n",
    "    #'file' :'metadata-csv'\n",
    "}\n",
    "# Get project ids:\n",
    "r = s.post(conn['hosturl']+'/api/get_dids_from_project', timeout=15, data=config)  \n",
    "\n",
    "try:\n",
    "    result = json.loads(r.text)\n",
    "except:\n",
    "    result = str(r.text)\n",
    "if type(result) is list:\n",
    "    config['ds_order'] = r.text   # keep this as r.text \n",
    "    print('image: '+config['image'])\n",
    "    print(config['ds_order'])    \n",
    "else:\n",
    "    print(result)"
   ]
  },
  {
   "cell_type": "code",
   "execution_count": 13,
   "metadata": {},
   "outputs": [
    {
     "name": "stdout",
     "output_type": "stream",
     "text": [
      "guest_1500470564224\n"
     ]
    }
   ],
   "source": [
    "\"\"\"\n",
    "Panel-2\n",
    "Creates remote configuration and gets ts (file_prefix) \n",
    "\"\"\"\n",
    "# Get timestamp (filename prefix):\n",
    "r = s.post(conn['hosturl']+'/visuals/view_selection', timeout=15, data=config)\n",
    "soup = BeautifulSoup(r.text, \"lxml\")  # html5lib  lxml html.parser\n",
    "\n",
    "# I placed this on view_selection page:  <div id='ts_for_bs' style='visibility:hidden'><%= pi.ts %></div>\n",
    "ts = soup.find(id=\"ts_for_bs\").string\n",
    "print(ts)"
   ]
  },
  {
   "cell_type": "code",
   "execution_count": 14,
   "metadata": {},
   "outputs": [
    {
     "name": "stdout",
     "output_type": "stream",
     "text": [
      "guest_1500470564224_dendrogram.svg\n",
      "Done writing local file: guest_1500470564224_dendrogram.svg\n"
     ]
    }
   ],
   "source": [
    "\"\"\"\n",
    "Panel-3\n",
    "Writes local matrx_file which is integral to vamps images:\n",
    "Writes image file\n",
    "\"\"\"\n",
    "import json\n",
    "biom_matrix_file = ts+'_count_matrix.biom'\n",
    "url = conn['hosturl']+\"/\"+biom_matrix_file\n",
    "response = requests.get(url, stream=True)\n",
    "response.raise_for_status()\n",
    "out_file = biom_matrix_file\n",
    "with open(out_file, \"wb\") as handle:\n",
    "    for block in response.iter_content(1024):\n",
    "        handle.write(block)\n",
    "\n",
    "\n",
    "r = s.post(conn['hosturl']+'/api/create_image', timeout=300, data=config)\n",
    "\n",
    "try:\n",
    "    result = json.loads(r.text)\n",
    "except:\n",
    "    print(r.text)\n",
    "    sys.exit()\n",
    "local_filename = result['filename']\n",
    "return_result = result['html']\n",
    "print(local_filename)\n",
    "remote_file_name = conn['hosturl']+\"/\"+local_filename\n",
    "\n",
    "r = requests.get(remote_file_name, timeout=300, stream=True)\n",
    "with open(local_filename, 'wb') as f:\n",
    "    f.write(r.content)\n",
    "print 'Done writing local file:',local_filename"
   ]
  },
  {
   "cell_type": "code",
   "execution_count": null,
   "metadata": {},
   "outputs": [],
   "source": [
    "\"\"\"\n",
    "Show image\n",
    "\"\"\"\n",
    "from IPython.core.display import display, HTML\n",
    "if config['image'] in ready_images:\n",
    "    if config['image'] == 'metadata_csv':\n",
    "        print(return_result)\n",
    "    elif config['image'] == 'dendrogram':\n",
    "        file_name = ts + '_dendrogram.svg'\n",
    "        file_url = conn['hosturl']+\"/\"+file_name\n",
    "        r = requests.get(file_url, stream=True)\n",
    "        r.raise_for_status()\n",
    "        display( HTML(\"<style>.container { width:100% !important; }</style>\"+r.content) )\n",
    "    else:\n",
    "        display(HTML(\"<style>.container { width:100% !important; }</style>\"+return_result))\n",
    "else:\n",
    "    print('not implemented yet')"
   ]
  },
  {
   "cell_type": "code",
   "execution_count": null,
   "metadata": {
    "collapsed": true
   },
   "outputs": [],
   "source": []
  }
 ],
 "metadata": {
  "anaconda-cloud": {},
  "kernelspec": {
   "display_name": "Python 2",
   "language": "python",
   "name": "python2"
  },
  "language_info": {
   "codemirror_mode": {
    "name": "ipython",
    "version": 2
   },
   "file_extension": ".py",
   "mimetype": "text/x-python",
   "name": "python",
   "nbconvert_exporter": "python",
   "pygments_lexer": "ipython2",
   "version": "2.7.13"
  }
 },
 "nbformat": 4,
 "nbformat_minor": 1
}
