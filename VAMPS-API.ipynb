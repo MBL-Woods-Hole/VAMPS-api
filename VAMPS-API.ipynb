{
 "cells": [
  {
   "cell_type": "code",
   "execution_count": 188,
   "metadata": {},
   "outputs": [
    {
     "data": {
      "text/plain": [
       "u'Login Success'"
      ]
     },
     "execution_count": 188,
     "metadata": {},
     "output_type": "execute_result"
    }
   ],
   "source": [
    "import requests\n",
    "conn = {'username':'guest',\n",
    "        'password':'guest',\n",
    "        'api':'1',\n",
    "         # vamps:             https://vamps2.mbl.edu\n",
    "         # vampsdev (private) http://vampsdev.jbpc-np.mbl.edu:8124 \n",
    "         # localhost:         http://localhost:3000 \n",
    "        'hosturl':'http://localhost:3000'\n",
    "       }\n",
    "s = requests.Session()\n",
    "r = s.post(conn['hosturl']+'/api/logmein', data=conn)\n",
    "r = s.post(conn['hosturl']+'/api/validate_login', data=conn)\n",
    "r.text"
   ]
  },
  {
   "cell_type": "code",
   "execution_count": 189,
   "metadata": {},
   "outputs": [
    {
     "name": "stdout",
     "output_type": "stream",
     "text": [
      "Ready\n"
     ]
    }
   ],
   "source": [
    "\"\"\"\n",
    "Panel-1 \n",
    "Define config variable; Select project; Select Image;\n",
    "Gets datasets ids\n",
    "Author: AAV\n",
    "vamps2.mbl.edu\n",
    "\"\"\"\n",
    "import os,sys\n",
    "import json\n",
    "from bs4 import BeautifulSoup   # parser for html\n",
    "\n",
    "#ready_images = [\"dheatmap\", \"piecharts\", \"barcharts\", \"counts_matrix\", \"metadata_csv\", \"phyloseq\",\"adiversity\",\"dendrogram\",\"fheatmap\"]\n",
    "config = {\n",
    "    \"api\":\"1\",\n",
    "    \"source\":\"VAMPS-API\",\n",
    "    \"update_data\":1,\n",
    "    \"normalization\":\"none\",                  # none, maximum, frequency\n",
    "    \"selected_distance\":\"morisita-horn\",     # morisita-horn, jaccard, kulczynski, canberra, bray-curtis\n",
    "    \"tax_depth\":\"genus\",                     # domain, phylum, klass, order, family, genus, species, strain\n",
    "    \"domains\":[\"Archaea\",\"Bacteria\",\"Eukarya\",\"Organelle\",\"Unknown\"],   #[\"Archaea\",\"Bacteria\",\"Eukarya\",\"Organelle\",\"Unknown\"],\n",
    "    \"include_nas\":\"yes\",                  # yes or no\n",
    "    # if the % taxon for all of the datasets are outside this range the taxon will not show.\n",
    "    # Applies to pies and bars, heatmap, tax-table:\n",
    "    \"min_range\":0,                        # integer 0-99  -> percent range of taxonomy to show\n",
    "    \"max_range\":100,                      # integer 1-100 -> percent range of taxonomy to show\n",
    "    \n",
    "    # CHOOSE EITHER 'project' OR 'ds_order'.\n",
    "    # ds-order takes precedence and allows you to get data from partial projects or multiple projects.\n",
    "    # find dataset_ids from the GUI or use the 'get_dids_from_project' function (see next panel)\n",
    "    # Must be a valid project - with correct permissions for the above user.\n",
    "    #'project':'AFP_MVCO_Bv6',    # localhost tests: KCK_LSM_TBS(private) or ICM_SPO_Ev9 or ICM_LCY_Bv6   \n",
    "                                 # vamps2: AB_SAND_Bv6 AFP_MVCO_Bv6 DCO_BRG_Bv6v4\n",
    "    #  ds_order format: [49, 50, 51, 52],  (no quotes)\n",
    "    'ds_order':[49, 50, 51], # IF PRESENT and not empty - will take precedence over 'project'\n",
    "\n",
    "    # Currently avalable: \n",
    "    # \"dheatmap\", \"piecharts\", \"barcharts\", \"counts_matrix\", \"metadata_csv\", \"adiversity\", \"dendrogram\", \"fheatmap\", \"taxon_color_legend\"\n",
    "    # In construction    phyloseq (Rscript)\n",
    "    'image':'taxon_color_legend',\n",
    "}\n",
    "# minimal config:\n",
    "config = {\n",
    "    \"api\":\"1\",\n",
    "    \"source\":\"VAMPS-API\",\n",
    "    \"update_data\":1,\n",
    "    'ds_order':[49, 50, 51],  ## OR 'project':'AFP_MVCO_Bv6',\n",
    "    'image':'piecharts',    \n",
    "}\n",
    "print('Ready')"
   ]
  },
  {
   "cell_type": "code",
   "execution_count": 190,
   "metadata": {},
   "outputs": [
    {
     "data": {
      "text/plain": [
       "'\\nAPI function listing\\n'"
      ]
     },
     "execution_count": 190,
     "metadata": {},
     "output_type": "execute_result"
    }
   ],
   "source": [
    "\"\"\"\n",
    "API function listing\n",
    "\"\"\"\n",
    "# ############################################\n",
    "# VAMPS-API: Get Dataset IDs:\n",
    "# data = {\"project\":\"ICM_LCY_Bv6\"}\n",
    "# r = s.post(conn['hosturl']+'/api/get_dids_from_project', timeout=15, data=data)  \n",
    "# result = json.loads(r.text)\n",
    "# result\n",
    "# ############################################\n",
    "# VAMPS-API: Get Project Metadata:\n",
    "# Will return metadata in JSON format. \n",
    "# If you want a tabular csv file use 'image':'metadata_csv' with the create_image function\n",
    "# data = {\"project\":\"ICM_LCY_Bv6\"} \n",
    "# r = s.post(conn['hosturl']+'/api/get_metadata_from_project', timeout=15, data=data)  \n",
    "# result = json.loads(r.text)\n",
    "# result\n",
    "# ############################################\n",
    "# # VAMPS-API: Get Project Information:\n",
    "# data = {\"project\":\"KCK_LSM_TBS\"}\n",
    "# r = s.post(conn['hosturl']+'/api/get_project_information', timeout=15, data=data)  \n",
    "# result = json.loads(r.text)\n",
    "# result\n",
    "# ############################################\n",
    "#VAMPS-API: Find Projects that user has access to.\n",
    "# data = {\n",
    "#    'search_string':'',  # If not empty will return projects with string in project name (case insensitive)\n",
    "#                         # title and description\n",
    "#     #'include_info':''   # if present, data will include project information\n",
    "# }\n",
    "# r = s.post(conn['hosturl']+'/api/find_user_projects', timeout=15, data=data) \n",
    "# result = json.loads(r.text)\n",
    "# result\n",
    "############################################\n",
    "#VAMPS-API: Get Projects in Geographic Region\n",
    "#data: JSON Decimal Degrees; \n",
    "# data = {'nw_lat':'90','nw_lon':'-165','se_lat':'','se_lon':''}\n",
    "# r = s.post(conn['hosturl']+'/api/find_projects_in_geo_area', timeout=15, data=data)  \n",
    "# result = json.loads(r.text)\n",
    "# result\n",
    "############################################\n",
    "#VAMPS-API: FIND PROJECTS BY METADATA STRING\n",
    "#data: JSON substring to search all project metadata \n",
    "# data = {'substring':'aux'}\n",
    "# r = s.post(conn['hosturl']+'/api/find_projects_by_metadata_str', timeout=15, data=data)  \n",
    "# result = json.loads(r.text)\n",
    "# result\n"
   ]
  },
  {
   "cell_type": "code",
   "execution_count": 191,
   "metadata": {},
   "outputs": [
    {
     "data": {
      "text/plain": [
       "'guest_1503493547295'"
      ]
     },
     "execution_count": 191,
     "metadata": {},
     "output_type": "execute_result"
    }
   ],
   "source": [
    "\"\"\"\n",
    "Panel-2\n",
    "Creates remote configuration and gets ts (file_prefix) \n",
    "\"\"\"\n",
    "# Get timestamp (filename prefix) and setup environment:\n",
    "r = s.post(conn['hosturl']+'/visuals/view_selection', timeout=15, data=config)\n",
    "soup = BeautifulSoup(r.text, \"lxml\")  # html5lib  lxml html.parser\n",
    "\n",
    "# I placed this on view_selection page:  <div id='ts_for_bs' style='visibility:hidden'><%= pi.ts %></div>\n",
    "found_data = str(soup.find(id=\"found_data\").string)\n",
    "if found_data == 'None':\n",
    "    print(\"\\x1b[31m\\\"No Data\\\"\\x1b[0m\"+\" -- verify correct 'config' structure and permissions for data you are trying to access\" )\n",
    "    sys.exit()\n",
    "ts = str(soup.find(id=\"ts_for_bs\").string)\n",
    "ts"
   ]
  },
  {
   "cell_type": "code",
   "execution_count": 192,
   "metadata": {},
   "outputs": [
    {
     "data": {
      "text/plain": [
       "u'Done writing local file: guest_1503493547295-piecharts-api.svg'"
      ]
     },
     "execution_count": 192,
     "metadata": {},
     "output_type": "execute_result"
    }
   ],
   "source": [
    "\"\"\"\n",
    "Panel-3\n",
    "Writes local matrx_file which is integral to vamps images:\n",
    "Writes image file\n",
    "\"\"\"\n",
    "import json\n",
    "biom_matrix_file = ts+'_count_matrix.biom'\n",
    "url = conn['hosturl']+\"/\"+biom_matrix_file\n",
    "response = requests.get(url, stream=True)\n",
    "response.raise_for_status()\n",
    "out_file = biom_matrix_file\n",
    "with open(out_file, \"wb\") as handle:\n",
    "    for block in response.iter_content(1024):\n",
    "        handle.write(block)\n",
    "\n",
    "r = s.post(conn['hosturl']+'/api/create_image', timeout=300, data=config)\n",
    "\n",
    "try:\n",
    "    result = json.loads(r.text)\n",
    "except:\n",
    "    print(r.text)\n",
    "    sys.exit()\n",
    "local_filename = result['filename']\n",
    "return_result = result['html']\n",
    "#print(local_filename)\n",
    "remote_file_name = conn['hosturl']+\"/\"+local_filename\n",
    "\n",
    "r = requests.get(remote_file_name, timeout=300, stream=True)\n",
    "with open(local_filename, 'wb') as f:\n",
    "    f.write(r.content)\n",
    "'Done writing local file: '+local_filename"
   ]
  },
  {
   "cell_type": "code",
   "execution_count": 193,
   "metadata": {},
   "outputs": [
    {
     "data": {
      "text/html": [
       "<style>.container { width:100% !important; }</style><svg xmlns=\"http://www.w3.org/2000/svg\" width=\"1200\" height=\"200\"><g transform=\"translate(0,0)\"><g transform=\"translate(95,95)\"><text dx=\"-95\" dy=\"95\" text-anchor=\"center\" font-size=\"10px\">ICM_LCY_Bv6--LCY_0001_2003_05_11</text><path class=\"arc\" d=\"M4.898587196589413e-15,-80A80,80,0,0,1,0.7496176544977889,-79.9964878814818L0,0Z\" fill=\"#84f440\"><title>Bacteria;Acidobacteria -- 13</title></path><path class=\"arc\" d=\"M0.7496176544977889,-79.9964878814818A80,80,0,0,1,4.092338684430224,-79.89526121173843L0,0Z\" fill=\"#b0fe1e\"><title>Bacteria;Actinobacteria -- 58</title></path><path class=\"arc\" d=\"M4.092338684430224,-79.89526121173843A80,80,0,0,1,9.320311759924994,-79.45521876313603L0,0Z\" fill=\"#bbfa9c\"><title>Bacteria;Bacteroidetes -- 91</title></path><path class=\"arc\" d=\"M9.320311759924994,-79.45521876313603A80,80,0,0,1,9.72108886820444,-79.4071812320301L0,0Z\" fill=\"#cf6598\"><title>Bacteria;Chlorobi -- 7</title></path><path class=\"arc\" d=\"M9.72108886820444,-79.4071812320301A80,80,0,0,1,52.928518687595165,-59.98809806567373L0,0Z\" fill=\"#45a765\"><title>Bacteria;Chloroflexi -- 834</title></path><path class=\"arc\" d=\"M52.928518687595165,-59.98809806567373L0,0Z\" fill=\"#647b0f\"><title>Bacteria;Cyanobacteria -- 0</title></path><path class=\"arc\" d=\"M52.928518687595165,-59.98809806567373A80,80,0,0,1,53.05811252062974,-59.87350579136145L0,0Z\" fill=\"#a01b8c\"><title>Bacteria;Deferribacteres -- 3</title></path><path class=\"arc\" d=\"M53.05811252062974,-59.87350579136145L0,0Z\" fill=\"#8bcaf8\"><title>Bacteria;Deinococcus-thermus -- 0</title></path><path class=\"arc\" d=\"M53.05811252062974,-59.87350579136145L0,0Z\" fill=\"#7dfa53\"><title>Bacteria;Fibrobacteres -- 0</title></path><path class=\"arc\" d=\"M53.05811252062974,-59.87350579136145A80,80,0,0,1,56.98999140294737,-56.14393003604206L0,0Z\" fill=\"#96e933\"><title>Bacteria;Firmicutes -- 94</title></path><path class=\"arc\" d=\"M56.98999140294737,-56.14393003604206A80,80,0,0,1,57.03044495747015,-56.10283725403704L0,0Z\" fill=\"#574a8a\"><title>Bacteria;Gemmatimonadetes -- 1</title></path><path class=\"arc\" d=\"M57.03044495747015,-56.10283725403704A80,80,0,0,1,57.11126315536326,-56.0205642670515L0,0Z\" fill=\"#1f71a1\"><title>Bacteria;Lentisphaerae -- 2</title></path><path class=\"arc\" d=\"M57.11126315536326,-56.0205642670515A80,80,0,0,1,61.516640479223796,-51.1439433770014L0,0Z\" fill=\"#f8acca\"><title>Bacteria;Nitrospirae -- 114</title></path><path class=\"arc\" d=\"M61.516640479223796,-51.1439433770014A80,80,0,0,1,61.993169843521684,-50.56527358526081L0,0Z\" fill=\"#5009a8\"><title>Bacteria;Od1 -- 13</title></path><path class=\"arc\" d=\"M61.993169843521684,-50.56527358526081L0,0Z\" fill=\"#608398\"><title>Bacteria;Op1 -- 0</title></path><path class=\"arc\" d=\"M61.993169843521684,-50.56527358526081L0,0Z\" fill=\"#11144a\"><title>Bacteria;Op10 -- 0</title></path><path class=\"arc\" d=\"M61.993169843521684,-50.56527358526081A80,80,0,0,1,62.60810412530519,-49.801860385280214L0,0Z\" fill=\"#b26f0e\"><title>Bacteria;Planctomycetes -- 17</title></path><path class=\"arc\" d=\"M62.60810412530519,-49.801860385280214A80,80,0,1,1,-24.18055247702248,-76.2581201047204L0,0Z\" fill=\"#db27e2\"><title>Bacteria;Proteobacteria -- 7044</title></path><path class=\"arc\" d=\"M-24.18055247702248,-76.2581201047204L0,0Z\" fill=\"#36621d\"><title>Bacteria;Spirochaetes -- 0</title></path><path class=\"arc\" d=\"M-24.18055247702248,-76.2581201047204A80,80,0,0,1,-24.125579594843977,-76.27552955707911L0,0Z\" fill=\"#1ffb8a\"><title>Bacteria;Ta06 -- 1</title></path><path class=\"arc\" d=\"M-24.125579594843977,-76.27552955707911A80,80,0,0,1,-23.2994982443431,-76.53191087096842L0,0Z\" fill=\"#04b4be\"><title>Bacteria;Tenericutes -- 15</title></path><path class=\"arc\" d=\"M-23.2994982443431,-76.53191087096842A80,80,0,0,1,-22.691968758449544,-76.71423957692306L0,0Z\" fill=\"#e8de8f\"><title>Bacteria;Thermotogae -- 11</title></path><path class=\"arc\" d=\"M-22.691968758449544,-76.71423957692306A80,80,0,0,1,-22.30461393274291,-76.82775668540174L0,0Z\" fill=\"#ed2e33\"><title>Bacteria;Verrucomicrobia -- 7</title></path><path class=\"arc\" d=\"M-22.30461393274291,-76.82775668540174A80,80,0,0,1,-2.7096774189874835,-79.95409713257371L0,0Z\" fill=\"#701285\"><title>Bacteria;phylum_NA -- 345</title></path><path class=\"arc\" d=\"M-2.7096774189874835,-79.95409713257371A80,80,0,0,1,-2.652046066368479,-79.95602948910019L0,0Z\" fill=\"#5d0202\"><title>Organelle;Chloroplast -- 1</title></path><path class=\"arc\" d=\"M-2.652046066368479,-79.95602948910019A80,80,0,0,1,-1.4695761589768237e-14,-80L0,0Z\" fill=\"#55b331\"><title>Unknown;phylum_NA -- 46</title></path></g><g transform=\"translate(285,95)\"><text dx=\"-95\" dy=\"95\" text-anchor=\"center\" font-size=\"10px\">ICM_LCY_Bv6--LCY_0003_2003_05_04</text><path class=\"arc\" d=\"M4.898587196589413e-15,-80A80,80,0,0,1,0.18058358099666794,-79.99979618455458L0,0Z\" fill=\"#84f440\"><title>Bacteria;Acidobacteria -- 2</title></path><path class=\"arc\" d=\"M0.18058358099666794,-79.99979618455458A80,80,0,0,1,1.986216965520874,-79.97533958768713L0,0Z\" fill=\"#b0fe1e\"><title>Bacteria;Actinobacteria -- 20</title></path><path class=\"arc\" d=\"M1.986216965520874,-79.97533958768713A80,80,0,0,1,14.812194720252451,-78.61678502437839L0,0Z\" fill=\"#bbfa9c\"><title>Bacteria;Bacteroidetes -- 143</title></path><path class=\"arc\" d=\"M14.812194720252451,-78.61678502437839L0,0Z\" fill=\"#cf6598\"><title>Bacteria;Chlorobi -- 0</title></path><path class=\"arc\" d=\"M14.812194720252451,-78.61678502437839A80,80,0,0,1,15.787065861745322,-78.42683565895615L0,0Z\" fill=\"#45a765\"><title>Bacteria;Chloroflexi -- 11</title></path><path class=\"arc\" d=\"M15.787065861745322,-78.42683565895615A80,80,0,0,1,15.875572105655241,-78.40896766517298L0,0Z\" fill=\"#647b0f\"><title>Bacteria;Cyanobacteria -- 1</title></path><path class=\"arc\" d=\"M15.875572105655241,-78.40896766517298L0,0Z\" fill=\"#a01b8c\"><title>Bacteria;Deferribacteres -- 0</title></path><path class=\"arc\" d=\"M15.875572105655241,-78.40896766517298L0,0Z\" fill=\"#8bcaf8\"><title>Bacteria;Deinococcus-thermus -- 0</title></path><path class=\"arc\" d=\"M15.875572105655241,-78.40896766517298L0,0Z\" fill=\"#7dfa53\"><title>Bacteria;Fibrobacteres -- 0</title></path><path class=\"arc\" d=\"M15.875572105655241,-78.40896766517298A80,80,0,0,1,42.252216866388316,-67.9319524956827L0,0Z\" fill=\"#96e933\"><title>Bacteria;Firmicutes -- 316</title></path><path class=\"arc\" d=\"M42.252216866388316,-67.9319524956827L0,0Z\" fill=\"#574a8a\"><title>Bacteria;Gemmatimonadetes -- 0</title></path><path class=\"arc\" d=\"M42.252216866388316,-67.9319524956827L0,0Z\" fill=\"#1f71a1\"><title>Bacteria;Lentisphaerae -- 0</title></path><path class=\"arc\" d=\"M42.252216866388316,-67.9319524956827A80,80,0,0,1,42.48198808042644,-67.78849967903484L0,0Z\" fill=\"#f8acca\"><title>Bacteria;Nitrospirae -- 3</title></path><path class=\"arc\" d=\"M42.48198808042644,-67.78849967903484A80,80,0,0,1,43.774748238837724,-66.96096935249948L0,0Z\" fill=\"#5009a8\"><title>Bacteria;Od1 -- 17</title></path><path class=\"arc\" d=\"M43.774748238837724,-66.96096935249948L0,0Z\" fill=\"#608398\"><title>Bacteria;Op1 -- 0</title></path><path class=\"arc\" d=\"M43.774748238837724,-66.96096935249948A80,80,0,0,1,43.850295728513174,-66.91152041705479L0,0Z\" fill=\"#11144a\"><title>Bacteria;Op10 -- 1</title></path><path class=\"arc\" d=\"M43.850295728513174,-66.91152041705479A80,80,0,0,1,43.92578735962361,-66.86198624657459L0,0Z\" fill=\"#b26f0e\"><title>Bacteria;Planctomycetes -- 1</title></path><path class=\"arc\" d=\"M43.92578735962361,-66.86198624657459A80,80,0,1,1,-3.249612911987904,-79.93397285211239L0,0Z\" fill=\"#db27e2\"><title>Bacteria;Proteobacteria -- 5016</title></path><path class=\"arc\" d=\"M-3.249612911987904,-79.93397285211239L0,0Z\" fill=\"#36621d\"><title>Bacteria;Spirochaetes -- 0</title></path><path class=\"arc\" d=\"M-3.249612911987904,-79.93397285211239L0,0Z\" fill=\"#1ffb8a\"><title>Bacteria;Ta06 -- 0</title></path><path class=\"arc\" d=\"M-3.249612911987904,-79.93397285211239A80,80,0,0,1,-3.159393515640888,-79.9375896097282L0,0Z\" fill=\"#04b4be\"><title>Bacteria;Tenericutes -- 1</title></path><path class=\"arc\" d=\"M-3.159393515640888,-79.9375896097282L0,0Z\" fill=\"#e8de8f\"><title>Bacteria;Thermotogae -- 0</title></path><path class=\"arc\" d=\"M-3.159393515640888,-79.9375896097282A80,80,0,0,1,-3.069170094710112,-79.94110453909013L0,0Z\" fill=\"#ed2e33\"><title>Bacteria;Verrucomicrobia -- 1</title></path><path class=\"arc\" d=\"M-3.069170094710112,-79.94110453909013A80,80,0,0,1,-1.4445913571365896,-79.9869561604321L0,0Z\" fill=\"#701285\"><title>Bacteria;phylum_NA -- 18</title></path><path class=\"arc\" d=\"M-1.4445913571365896,-79.9869561604321A80,80,0,0,1,-1.3543133109398944,-79.98853565015308L0,0Z\" fill=\"#5d0202\"><title>Organelle;Chloroplast -- 1</title></path><path class=\"arc\" d=\"M-1.3543133109398944,-79.98853565015308A80,80,0,0,1,-8.575003516577825e-14,-80L0,0Z\" fill=\"#55b331\"><title>Unknown;phylum_NA -- 15</title></path></g><g transform=\"translate(475,95)\"><text dx=\"-95\" dy=\"95\" text-anchor=\"center\" font-size=\"10px\">ICM_LCY_Bv6--LCY_0005_2003_05_16</text><path class=\"arc\" d=\"M4.898587196589413e-15,-80L0,0Z\" fill=\"#84f440\"><title>Bacteria;Acidobacteria -- 0</title></path><path class=\"arc\" d=\"M4.898587196589413e-15,-80A80,80,0,0,1,0.1630331450521594,-79.99983387603761L0,0Z\" fill=\"#b0fe1e\"><title>Bacteria;Actinobacteria -- 7</title></path><path class=\"arc\" d=\"M0.1630331450521594,-79.99983387603761A80,80,0,0,1,11.281437011893576,-79.2005629963997L0,0Z\" fill=\"#bbfa9c\"><title>Bacteria;Bacteroidetes -- 479</title></path><path class=\"arc\" d=\"M11.281437011893576,-79.2005629963997L0,0Z\" fill=\"#cf6598\"><title>Bacteria;Chlorobi -- 0</title></path><path class=\"arc\" d=\"M11.281437011893576,-79.2005629963997A80,80,0,0,1,11.46586804462763,-79.17407321834078L0,0Z\" fill=\"#45a765\"><title>Bacteria;Chloroflexi -- 8</title></path><path class=\"arc\" d=\"M11.46586804462763,-79.17407321834078A80,80,0,0,1,11.488917571069992,-79.1707317955642L0,0Z\" fill=\"#647b0f\"><title>Bacteria;Cyanobacteria -- 1</title></path><path class=\"arc\" d=\"M11.488917571069992,-79.1707317955642A80,80,0,0,1,11.903640640067646,-79.10943900390224L0,0Z\" fill=\"#a01b8c\"><title>Bacteria;Deferribacteres -- 18</title></path><path class=\"arc\" d=\"M11.903640640067646,-79.10943900390224A80,80,0,0,1,14.430535717157792,-78.68773499673144L0,0Z\" fill=\"#8bcaf8\"><title>Bacteria;Deinococcus-thermus -- 110</title></path><path class=\"arc\" d=\"M14.430535717157792,-78.68773499673144A80,80,0,0,1,14.45344352991965,-78.6835304884537L0,0Z\" fill=\"#7dfa53\"><title>Bacteria;Fibrobacteres -- 1</title></path><path class=\"arc\" d=\"M14.45344352991965,-78.6835304884537A80,80,0,0,1,69.29367459922392,-39.97982817042701L0,0Z\" fill=\"#96e933\"><title>Bacteria;Firmicutes -- 2974</title></path><path class=\"arc\" d=\"M69.29367459922392,-39.97982817042701L0,0Z\" fill=\"#574a8a\"><title>Bacteria;Gemmatimonadetes -- 0</title></path><path class=\"arc\" d=\"M69.29367459922392,-39.97982817042701L0,0Z\" fill=\"#1f71a1\"><title>Bacteria;Lentisphaerae -- 0</title></path><path class=\"arc\" d=\"M69.29367459922392,-39.97982817042701L0,0Z\" fill=\"#f8acca\"><title>Bacteria;Nitrospirae -- 0</title></path><path class=\"arc\" d=\"M69.29367459922392,-39.97982817042701A80,80,0,0,1,69.50223067589175,-39.616157449645875L0,0Z\" fill=\"#5009a8\"><title>Bacteria;Od1 -- 18</title></path><path class=\"arc\" d=\"M69.50223067589175,-39.616157449645875A80,80,0,0,1,69.51376121463491,-39.59592152980807L0,0Z\" fill=\"#608398\"><title>Bacteria;Op1 -- 1</title></path><path class=\"arc\" d=\"M69.51376121463491,-39.59592152980807L0,0Z\" fill=\"#11144a\"><title>Bacteria;Op10 -- 0</title></path><path class=\"arc\" d=\"M69.51376121463491,-39.59592152980807A80,80,0,0,1,69.52528586158964,-39.57568225393271L0,0Z\" fill=\"#b26f0e\"><title>Bacteria;Planctomycetes -- 1</title></path><path class=\"arc\" d=\"M69.52528586158964,-39.57568225393271A80,80,0,1,1,-1.0946177164508606,-79.99251097480834L0,0Z\" fill=\"#db27e2\"><title>Bacteria;Proteobacteria -- 17917</title></path><path class=\"arc\" d=\"M-1.0946177164508606,-79.99251097480834A80,80,0,0,1,-0.7918628929184169,-79.9960808612448L0,0Z\" fill=\"#36621d\"><title>Bacteria;Spirochaetes -- 13</title></path><path class=\"arc\" d=\"M-0.7918628929184169,-79.9960808612448L0,0Z\" fill=\"#1ffb8a\"><title>Bacteria;Ta06 -- 0</title></path><path class=\"arc\" d=\"M-0.7918628929184169,-79.9960808612448L0,0Z\" fill=\"#04b4be\"><title>Bacteria;Tenericutes -- 0</title></path><path class=\"arc\" d=\"M-0.7918628929184169,-79.9960808612448L0,0Z\" fill=\"#e8de8f\"><title>Bacteria;Thermotogae -- 0</title></path><path class=\"arc\" d=\"M-0.7918628929184169,-79.9960808612448A80,80,0,0,1,-0.37264609902548673,-79.99913208832257L0,0Z\" fill=\"#ed2e33\"><title>Bacteria;Verrucomicrobia -- 18</title></path><path class=\"arc\" d=\"M-0.37264609902548673,-79.99913208832257A80,80,0,0,1,-0.27948501645184676,-79.99951179929523L0,0Z\" fill=\"#701285\"><title>Bacteria;phylum_NA -- 4</title></path><path class=\"arc\" d=\"M-0.27948501645184676,-79.99951179929523L0,0Z\" fill=\"#5d0202\"><title>Organelle;Chloroplast -- 0</title></path><path class=\"arc\" d=\"M-0.27948501645184676,-79.99951179929523A80,80,0,0,1,5.6358511986241776e-14,-80L0,0Z\" fill=\"#55b331\"><title>Unknown;phylum_NA -- 12</title></path></g></g></svg>"
      ],
      "text/plain": [
       "<IPython.core.display.HTML object>"
      ]
     },
     "execution_count": 193,
     "metadata": {},
     "output_type": "execute_result"
    }
   ],
   "source": [
    "\"\"\"\n",
    "Show image\n",
    "\"\"\"\n",
    "from IPython.core.display import display, HTML\n",
    "out = ''\n",
    "\n",
    "if config['image'] == 'metadata_csv':\n",
    "    print(return_result)\n",
    "else:\n",
    "    #display(HTML(\"<style>.container { width:100% !important; }</style>\"+return_result))\n",
    "    out = HTML(\"<style>.container { width:100% !important; }</style>\"+return_result)\n",
    "\n",
    "out"
   ]
  },
  {
   "cell_type": "code",
   "execution_count": null,
   "metadata": {
    "collapsed": true
   },
   "outputs": [],
   "source": []
  }
 ],
 "metadata": {
  "anaconda-cloud": {},
  "kernelspec": {
   "display_name": "Python 2",
   "language": "python",
   "name": "python2"
  },
  "language_info": {
   "codemirror_mode": {
    "name": "ipython",
    "version": 2
   },
   "file_extension": ".py",
   "mimetype": "text/x-python",
   "name": "python",
   "nbconvert_exporter": "python",
   "pygments_lexer": "ipython2",
   "version": "2.7.13"
  }
 },
 "nbformat": 4,
 "nbformat_minor": 1
}
